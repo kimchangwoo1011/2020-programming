{
  "nbformat": 4,
  "nbformat_minor": 0,
  "metadata": {
    "colab": {
      "name": "Untitleasd0.ipynb",
      "provenance": [],
      "authorship_tag": "ABX9TyN56WivjV1ju+cDIMHn0iN3",
      "include_colab_link": true
    },
    "kernelspec": {
      "name": "python3",
      "display_name": "Python 3"
    }
  },
  "cells": [
    {
      "cell_type": "markdown",
      "metadata": {
        "id": "view-in-github",
        "colab_type": "text"
      },
      "source": [
        "<a href=\"https://colab.research.google.com/github/kimchangwoo1011/2020-programming/blob/main/ch10/Untitleasd0.ipynb\" target=\"_parent\"><img src=\"https://colab.research.google.com/assets/colab-badge.svg\" alt=\"Open In Colab\"/></a>"
      ]
    },
    {
      "cell_type": "code",
      "metadata": {
        "id": "M_45hH_fTwEf"
      },
      "source": [
        "zxc"
      ],
      "execution_count": null,
      "outputs": []
    }
  ]
}