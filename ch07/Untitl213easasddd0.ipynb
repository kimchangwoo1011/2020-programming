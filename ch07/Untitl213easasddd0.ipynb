{
  "nbformat": 4,
  "nbformat_minor": 0,
  "metadata": {
    "colab": {
      "name": "Untitl213easasddd0.ipynb",
      "provenance": [],
      "authorship_tag": "ABX9TyOtDUA9LbZ2XbOQug0T0waV",
      "include_colab_link": true
    },
    "kernelspec": {
      "name": "python3",
      "display_name": "Python 3"
    }
  },
  "cells": [
    {
      "cell_type": "markdown",
      "metadata": {
        "id": "view-in-github",
        "colab_type": "text"
      },
      "source": [
        "<a href=\"https://colab.research.google.com/github/kimchangwoo1011/2020-programming/blob/main/ch07/Untitl213easasddd0.ipynb\" target=\"_parent\"><img src=\"https://colab.research.google.com/assets/colab-badge.svg\" alt=\"Open In Colab\"/></a>"
      ]
    },
    {
      "cell_type": "code",
      "metadata": {
        "id": "IWA_v2wuRnxo"
      },
      "source": [
        "#########################################################\n",
        "import tensorflow as tf\n",
        "\n",
        "mnist = tf.keras.datasets.mnist\n",
        "(x_train, y_train), (x_test, y_test) = mnist.load_data()\n",
        "\n",
        "# 샘플 값을 정수(0~255)에서 부동소수(0~1)로 변환\n",
        "x_train, x_test = x_train / 255.0, x_test / 255.0\n",
        "\n",
        "# 먼저 reshape()로 평탄화 작업을 수행한 후\n",
        "x_train = x_train.reshape((60000, 28*28))\n",
        "x_test = x_test.reshape((10000, 28*28))\n",
        "\n",
        "# 층을 차례대로 쌓아 tf.keras.models.Sequential 모델을 생성\n",
        "model = tf.keras.models.Sequential([\n",
        "    #tf.keras.layers.Flatten(input_shape=(28, 28)),\n",
        "    tf.keras.layers.Dense(128, activation='relu', input_shape=(28 * 28,)),\n",
        "    tf.keras.layers.Dropout(0.2),\n",
        "    tf.keras.layers.Dense(10, activation='softmax')\n",
        "])\n",
        "\n",
        "# 모델 요약 표시\n",
        "model.summary()\n",
        "\n",
        "# 훈련에 사용할 옵티마이저(optimizer)와 손실 함수, 출력정보를 모델에 설정\n",
        "model.compile(optimizer='adam',\n",
        "              loss='sparse_categorical_crossentropy',\n",
        "              metrics=['accuracy'])\n",
        "              # metrics=['accuracy', 'mse'])\n",
        "\n",
        "# 모델을 훈련 데이터로 총 5번 훈련\n",
        "model.fit(x_train, y_train, epochs=5)\n",
        "\n",
        "# 모델을 테스트 데이터로 평가\n",
        "model.evaluate(x_test, y_test)"
      ],
      "execution_count": null,
      "outputs": []
    }
  ]
}